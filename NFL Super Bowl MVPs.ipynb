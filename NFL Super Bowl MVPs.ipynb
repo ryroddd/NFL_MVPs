{
 "cells": [
  {
   "cell_type": "markdown",
   "metadata": {},
   "source": [
    "## Past NFL Super Bowl MVPs"
   ]
  },
  {
   "cell_type": "markdown",
   "metadata": {},
   "source": [
    "#### Import the libraries I need"
   ]
  },
  {
   "cell_type": "code",
   "execution_count": 1,
   "metadata": {},
   "outputs": [],
   "source": [
    "import pandas as pd\n",
    "import sqlite3"
   ]
  },
  {
   "cell_type": "markdown",
   "metadata": {},
   "source": [
    "#### Get the data from espn.com"
   ]
  },
  {
   "cell_type": "code",
   "execution_count": 2,
   "metadata": {},
   "outputs": [],
   "source": [
    "raw_data = pd.read_html(\"http://www.espn.com/nfl/superbowl/history/mvps\")"
   ]
  },
  {
   "cell_type": "markdown",
   "metadata": {},
   "source": [
    "#### Checking to see how many dataframes were retrieved"
   ]
  },
  {
   "cell_type": "code",
   "execution_count": 3,
   "metadata": {},
   "outputs": [
    {
     "data": {
      "text/plain": [
       "1"
      ]
     },
     "execution_count": 3,
     "metadata": {},
     "output_type": "execute_result"
    }
   ],
   "source": [
    "len(raw_data)"
   ]
  },
  {
   "cell_type": "markdown",
   "metadata": {},
   "source": [
    "#### Viewing the only dataframe"
   ]
  },
  {
   "cell_type": "code",
   "execution_count": 4,
   "metadata": {},
   "outputs": [
    {
     "data": {
      "text/plain": [
       "[                                   0                                        1  \\\n",
       " 0   Super Bowl Most Valuable Players         Super Bowl Most Valuable Players   \n",
       " 1                                NO.                                   PLAYER   \n",
       " 2                                  I                Bart Starr, QB, Green Bay   \n",
       " 3                                 II                Bart Starr, QB, Green Bay   \n",
       " 4                                III            Joe Namath, QB, New York Jets   \n",
       " 5                                 IV              Len Dawson, QB, Kansas City   \n",
       " 6                                  V                 Chuck Howley, LB, Dallas   \n",
       " 7                                 VI               Roger Staubach, QB, Dallas   \n",
       " 8                                VII                     Jake Scott, S, Miami   \n",
       " 9                               VIII                  Larry Csonka, FB, Miami   \n",
       " 10                                IX            Franco Harris, RB, Pittsburgh   \n",
       " 11                                 X               Lynn Swann, WR, Pittsburgh   \n",
       " 12                                XI            Fred Biletnikoff, WR, Oakland   \n",
       " 13                               XII  Harvey Martin & Randy White, DL, Dallas   \n",
       " 14                              XIII           Terry Bradshaw, QB, Pittsburgh   \n",
       " 15                               XIV           Terry Bradshaw, QB, Pittsburgh   \n",
       " 16                                XV                Jim Plunkett, QB, Oakland   \n",
       " 17                               XVI           Joe Montana, QB, San Francisco   \n",
       " 18                              XVII             John Riggins, RB, Washington   \n",
       " 19                             XVIII    Marcus Allen, RB, Los Angeles Raiders   \n",
       " 20                               XIX           Joe Montana, QB, San Francisco   \n",
       " 21                                XX                Richard Dent, DE, Chicago   \n",
       " 22                               XXI          Phil Simms, QB, New York Giants   \n",
       " 23                              XXII            Doug Williams, QB, Washington   \n",
       " 24                             XXIII            Jerry Rice, WR, San Francisco   \n",
       " 25                              XXIV           Joe Montana, QB, San Francisco   \n",
       " 26                               XXV      Ottis Anderson, RB, New York Giants   \n",
       " 27                              XXVI              Mark Rypien, QB, Washington   \n",
       " 28                             XXVII                  Troy Aikman, QB, Dallas   \n",
       " 29                            XXVIII                 Emmitt Smith, RB, Dallas   \n",
       " 30                              XXIX           Steve Young, QB, San Francisco   \n",
       " 31                               XXX                  Larry Brown, CB, Dallas   \n",
       " 32                              XXXI            Desmond Howard, KR, Green Bay   \n",
       " 33                             XXXII                Terrell Davis, RB, Denver   \n",
       " 34                            XXXIII                   John Elway, QB, Denver   \n",
       " 35                             XXXIV               Kurt Warner, QB, St. Louis   \n",
       " 36                              XXXV                 Ray Lewis, LB, Baltimore   \n",
       " 37                             XXXVI               Tom Brady, QB, New England   \n",
       " 38                            XXXVII            Dexter Jackson, CB, Tampa Bay   \n",
       " 39                           XXXVIII               Tom Brady, QB, New England   \n",
       " 40                             XXXIX            Deion Branch, WR, New England   \n",
       " 41                                XL               Hines Ward, WR, Pittsburgh   \n",
       " 42                               XLI         Peyton Manning, QB, Indianapolis   \n",
       " 43                              XLII         Eli Manning, QB, New York Giants   \n",
       " 44                             XLIII          Santonio Holmes, WR, Pittsburgh   \n",
       " 45                              XLIV              Drew Brees, QB, New Orleans   \n",
       " 46                               XLV             Aaron Rodgers, QB, Green Bay   \n",
       " 47                              XLVI         Eli Manning, QB, New York Giants   \n",
       " 48                             XLVII                Joe Flacco, QB, Baltimore   \n",
       " 49                            XLVIII               Malcolm Smith, LB, Seattle   \n",
       " 50                              XLIX               Tom Brady, QB, New England   \n",
       " 51                                50                   Von Miller, LB, Denver   \n",
       " 52                                LI               Tom Brady, QB, New England   \n",
       " 53                               LII             Nick Foles, QB, Philadelphia   \n",
       " 54                              LIII          Julian Edelman, WR, New England   \n",
       " 55                               LIV         Patrick Mahomes, QB, Kansas City   \n",
       " 56                                LV                 Tom Brady, QB, Tampa Bay   \n",
       " 57                               LVI        Cooper Kupp, WR, Los Angeles Rams   \n",
       " \n",
       "                                                  2  \n",
       " 0                 Super Bowl Most Valuable Players  \n",
       " 1                                       HIGHLIGHTS  \n",
       " 2                             Two touchdown passes  \n",
       " 3                          202 yards passing, 1 TD  \n",
       " 4                                206 yards passing  \n",
       " 5                          142 yards passing, 1 TD  \n",
       " 6               Two interceptions, fumble recovery  \n",
       " 7                         119 yards passing, 2 TDs  \n",
       " 8                                Two interceptions  \n",
       " 9             33 carries, 145 yards rushing, 2 TDs  \n",
       " 10                         158 yards rushing, 1 TD  \n",
       " 11                      4 catches, 161 yards, 1 TD  \n",
       " 12                             4 catches, 79 yards  \n",
       " 13  Led Dallas defense that forced eight turnovers  \n",
       " 14                        318 yards passing, 4 TDs  \n",
       " 15                        309 yards passing, 2 TDs  \n",
       " 16                        261 yards passing, 3 TDs  \n",
       " 17                         157 yards passing, 1 TD  \n",
       " 18                         166 yards rushing, 1 TD  \n",
       " 19            20 carries, 191 yards rushing, 2 TDs  \n",
       " 20                        331 yards passing, 3 TDs  \n",
       " 21                       2 sacks, 2 forced fumbles  \n",
       " 22                        268 yards passing, 3 TDs  \n",
       " 23                        340 yards passing, 4 TDs  \n",
       " 24                     11 catches, 215 yards, 1 TD  \n",
       " 25                        297 yards passing, 5 TDs  \n",
       " 26                         102 yards rushing, 1 TD  \n",
       " 27                        292 yards passing, 2 TDs  \n",
       " 28                        273 yards passing, 4 TDs  \n",
       " 29                    30 carries, 132 yards, 2 TDs  \n",
       " 30                        325 yards passing, 6 TDs  \n",
       " 31                               Two interceptions  \n",
       " 32   244 all-purpose yards, 99-yard kick return TD  \n",
       " 33                    30 carries, 157 yards, 3 TDs  \n",
       " 34                         336 yards passing, 1 TD  \n",
       " 35                        414 yards passing, 2 TDs  \n",
       " 36                   Led a dominant Ravens defense  \n",
       " 37                         145 yards passing, 1 TD  \n",
       " 38                    Two first-half interceptions  \n",
       " 39                        354 yards passing, 3 TDs  \n",
       " 40                           11 catches, 133 yards  \n",
       " 41                      5 catches, 123 yards, 1 TD  \n",
       " 42                         247 yards passing, 1 TD  \n",
       " 43                        255 yards passing, 2 TDs  \n",
       " 44                      9 catches, 131 yards, 1 TD  \n",
       " 45                      32-of-39, 288 yards, 2 TDs  \n",
       " 46                      24-of-39, 304 yards, 3 TDs  \n",
       " 47                       30-of-40, 296 yards, 1 TD  \n",
       " 48                      22-of-33, 287 yards, 3 TDs  \n",
       " 49         INT for TD, fumble recovery, 10 tackles  \n",
       " 50                      37-of-50, 328 yards, 4 TDs  \n",
       " 51       Six tackles, 2.5 sacks, one pass defended  \n",
       " 52                      43-of-62, 466 yards, 2 TDs  \n",
       " 53      28-of-43, 373 yards, 3 TDs, 1 TD reception  \n",
       " 54                           10 catches, 141 yards  \n",
       " 55                      26-of-42, 286 yards, 2 TDs  \n",
       " 56                      21-of-29, 201 yards, 3 TDs  \n",
       " 57                      8 catches, 92 yards, 2 TDs  ]"
      ]
     },
     "execution_count": 4,
     "metadata": {},
     "output_type": "execute_result"
    }
   ],
   "source": [
    "raw_data"
   ]
  },
  {
   "cell_type": "markdown",
   "metadata": {},
   "source": [
    "#### Taking the first dataframe and renaming it as data"
   ]
  },
  {
   "cell_type": "code",
   "execution_count": 5,
   "metadata": {},
   "outputs": [],
   "source": [
    "data = raw_data[0]"
   ]
  },
  {
   "cell_type": "markdown",
   "metadata": {},
   "source": [
    "#### Removing the frist two rows because they are information that was entered as a value"
   ]
  },
  {
   "cell_type": "code",
   "execution_count": 6,
   "metadata": {},
   "outputs": [],
   "source": [
    "data = data.drop([0,1])"
   ]
  },
  {
   "cell_type": "markdown",
   "metadata": {},
   "source": [
    "#### Resetting the index after the remove the first two irrelevant value from the dataframe"
   ]
  },
  {
   "cell_type": "code",
   "execution_count": 7,
   "metadata": {},
   "outputs": [],
   "source": [
    "data.reset_index(drop=True, inplace=True)"
   ]
  },
  {
   "cell_type": "markdown",
   "metadata": {},
   "source": [
    "#### Renaming the column names"
   ]
  },
  {
   "cell_type": "code",
   "execution_count": 8,
   "metadata": {},
   "outputs": [],
   "source": [
    "data = data.rename(columns={0: 'SuperBowl', 1:'MVP', 2: 'Stats'})"
   ]
  },
  {
   "cell_type": "markdown",
   "metadata": {},
   "source": [
    "#### Splitting the MVP column to make 3 new columns: Name, Position, and Team"
   ]
  },
  {
   "cell_type": "code",
   "execution_count": 9,
   "metadata": {},
   "outputs": [],
   "source": [
    "data[['Name', 'Position', 'Team']] = data['MVP'].str.split(',', expand=True)"
   ]
  },
  {
   "cell_type": "markdown",
   "metadata": {},
   "source": [
    "#### Selecting specific columns from the orginal dataframe to a clean one that will be used to import into sqlite database"
   ]
  },
  {
   "cell_type": "code",
   "execution_count": 10,
   "metadata": {},
   "outputs": [],
   "source": [
    "clean_data = data[['SuperBowl', 'Name', 'Position', 'Team', 'Stats']]"
   ]
  },
  {
   "cell_type": "markdown",
   "metadata": {},
   "source": [
    "#### Strip all the excess white spaces in each values in all the columns"
   ]
  },
  {
   "cell_type": "code",
   "execution_count": 17,
   "metadata": {
    "scrolled": true
   },
   "outputs": [
    {
     "data": {
      "text/plain": [
       "0                               Two touchdown passes\n",
       "1                            202 yards passing, 1 TD\n",
       "2                                  206 yards passing\n",
       "3                            142 yards passing, 1 TD\n",
       "4                 Two interceptions, fumble recovery\n",
       "5                           119 yards passing, 2 TDs\n",
       "6                                  Two interceptions\n",
       "7               33 carries, 145 yards rushing, 2 TDs\n",
       "8                            158 yards rushing, 1 TD\n",
       "9                         4 catches, 161 yards, 1 TD\n",
       "10                               4 catches, 79 yards\n",
       "11    Led Dallas defense that forced eight turnovers\n",
       "12                          318 yards passing, 4 TDs\n",
       "13                          309 yards passing, 2 TDs\n",
       "14                          261 yards passing, 3 TDs\n",
       "15                           157 yards passing, 1 TD\n",
       "16                           166 yards rushing, 1 TD\n",
       "17              20 carries, 191 yards rushing, 2 TDs\n",
       "18                          331 yards passing, 3 TDs\n",
       "19                         2 sacks, 2 forced fumbles\n",
       "20                          268 yards passing, 3 TDs\n",
       "21                          340 yards passing, 4 TDs\n",
       "22                       11 catches, 215 yards, 1 TD\n",
       "23                          297 yards passing, 5 TDs\n",
       "24                           102 yards rushing, 1 TD\n",
       "25                          292 yards passing, 2 TDs\n",
       "26                          273 yards passing, 4 TDs\n",
       "27                      30 carries, 132 yards, 2 TDs\n",
       "28                          325 yards passing, 6 TDs\n",
       "29                                 Two interceptions\n",
       "30     244 all-purpose yards, 99-yard kick return TD\n",
       "31                      30 carries, 157 yards, 3 TDs\n",
       "32                           336 yards passing, 1 TD\n",
       "33                          414 yards passing, 2 TDs\n",
       "34                     Led a dominant Ravens defense\n",
       "35                           145 yards passing, 1 TD\n",
       "36                      Two first-half interceptions\n",
       "37                          354 yards passing, 3 TDs\n",
       "38                             11 catches, 133 yards\n",
       "39                        5 catches, 123 yards, 1 TD\n",
       "40                           247 yards passing, 1 TD\n",
       "41                          255 yards passing, 2 TDs\n",
       "42                        9 catches, 131 yards, 1 TD\n",
       "43                        32-of-39, 288 yards, 2 TDs\n",
       "44                        24-of-39, 304 yards, 3 TDs\n",
       "45                         30-of-40, 296 yards, 1 TD\n",
       "46                        22-of-33, 287 yards, 3 TDs\n",
       "47           INT for TD, fumble recovery, 10 tackles\n",
       "48                        37-of-50, 328 yards, 4 TDs\n",
       "49         Six tackles, 2.5 sacks, one pass defended\n",
       "50                        43-of-62, 466 yards, 2 TDs\n",
       "51        28-of-43, 373 yards, 3 TDs, 1 TD reception\n",
       "52                             10 catches, 141 yards\n",
       "53                        26-of-42, 286 yards, 2 TDs\n",
       "54                        21-of-29, 201 yards, 3 TDs\n",
       "55                        8 catches, 92 yards, 2 TDs\n",
       "Name: Stats, dtype: object"
      ]
     },
     "execution_count": 17,
     "metadata": {},
     "output_type": "execute_result"
    }
   ],
   "source": [
    "clean_data['SuperBowl'].str.strip()\n",
    "clean_data['Name'].str.strip()\n",
    "clean_data['Position'].str.strip()\n",
    "clean_data['Team'].str.strip()\n",
    "clean_data['Stats'].str.strip()"
   ]
  },
  {
   "cell_type": "markdown",
   "metadata": {},
   "source": [
    "#### Create and connect to Super_Bowl_MVPs database"
   ]
  },
  {
   "cell_type": "code",
   "execution_count": 18,
   "metadata": {},
   "outputs": [],
   "source": [
    "conn = sqlite3.connect('Super_Bowl_MVPs')"
   ]
  },
  {
   "cell_type": "markdown",
   "metadata": {},
   "source": [
    "#### Create a cursor object which allows us to execute SQL queries "
   ]
  },
  {
   "cell_type": "code",
   "execution_count": 19,
   "metadata": {},
   "outputs": [],
   "source": [
    "query = conn.cursor()"
   ]
  },
  {
   "cell_type": "markdown",
   "metadata": {},
   "source": [
    "#### Converts and insert the clean_data dataframe into a data table called  MVPs. We also remove the indexes from the dataframe when importing it into sqlite"
   ]
  },
  {
   "cell_type": "code",
   "execution_count": 20,
   "metadata": {},
   "outputs": [],
   "source": [
    "clean_data.to_sql(name = 'MVPs', con = conn, if_exists = 'replace', index = False)\n",
    "\n",
    "conn.commit()"
   ]
  },
  {
   "cell_type": "markdown",
   "metadata": {},
   "source": [
    "### Sample Queries"
   ]
  },
  {
   "cell_type": "code",
   "execution_count": 22,
   "metadata": {},
   "outputs": [
    {
     "name": "stdout",
     "output_type": "stream",
     "text": [
      "[('I',), ('II',), ('III',), ('IV',), ('VI',), ('XIII',), ('XIV',), ('XV',), ('XVI',), ('XIX',), ('XXI',), ('XXII',), ('XXIV',), ('XXVI',), ('XXVII',), ('XXIX',), ('XXXIII',), ('XXXIV',), ('XXXVI',), ('XXXVIII',), ('XLI',), ('XLII',), ('XLIV',), ('XLV',), ('XLVI',), ('XLVII',), ('XLIX',), ('LI',), ('LII',), ('LIV',), ('LV',)]\n"
     ]
    }
   ],
   "source": [
    "query.execute(\"SELECT SuperBowl FROM MVPs WHERE Position= 'QB' \")\n",
    "print(query.fetchall())\n",
    "conn.commit()"
   ]
  },
  {
   "cell_type": "code",
   "execution_count": 23,
   "metadata": {},
   "outputs": [
    {
     "name": "stdout",
     "output_type": "stream",
     "text": [
      "[('I', 'Bart Starr', 'QB', 'Green Bay', 'Two touchdown passes'), ('II', 'Bart Starr', 'QB', 'Green Bay', '202 yards passing, 1 TD'), ('III', 'Joe Namath', 'QB', 'New York Jets', '206 yards passing'), ('IV', 'Len Dawson', 'QB', 'Kansas City', '142 yards passing, 1 TD'), ('V', 'Chuck Howley', 'LB', 'Dallas', 'Two interceptions, fumble recovery'), ('VI', 'Roger Staubach', 'QB', 'Dallas', '119 yards passing, 2 TDs'), ('VII', 'Jake Scott', 'S', 'Miami', 'Two interceptions'), ('VIII', 'Larry Csonka', 'FB', 'Miami', '33 carries, 145 yards rushing, 2 TDs'), ('IX', 'Franco Harris', 'RB', 'Pittsburgh', '158 yards rushing, 1 TD'), ('X', 'Lynn Swann', 'WR', 'Pittsburgh', '4 catches, 161 yards, 1 TD'), ('XI', 'Fred Biletnikoff', 'WR', 'Oakland', '4 catches, 79 yards'), ('XII', 'Harvey Martin & Randy White', 'DL', 'Dallas', 'Led Dallas defense that forced eight turnovers'), ('XIII', 'Terry Bradshaw', 'QB', 'Pittsburgh', '318 yards passing, 4 TDs'), ('XIV', 'Terry Bradshaw', 'QB', 'Pittsburgh', '309 yards passing, 2 TDs'), ('XV', 'Jim Plunkett', 'QB', 'Oakland', '261 yards passing, 3 TDs'), ('XVI', 'Joe Montana', 'QB', 'San Francisco', '157 yards passing, 1 TD'), ('XVII', 'John Riggins', 'RB', 'Washington', '166 yards rushing, 1 TD'), ('XVIII', 'Marcus Allen', 'RB', 'Los Angeles Raiders', '20 carries, 191 yards rushing, 2 TDs'), ('XIX', 'Joe Montana', 'QB', 'San Francisco', '331 yards passing, 3 TDs'), ('XX', 'Richard Dent', 'DE', 'Chicago', '2 sacks, 2 forced fumbles'), ('XXI', 'Phil Simms', 'QB', 'New York Giants', '268 yards passing, 3 TDs'), ('XXII', 'Doug Williams', 'QB', 'Washington', '340 yards passing, 4 TDs'), ('XXIII', 'Jerry Rice', 'WR', 'San Francisco', '11 catches, 215 yards, 1 TD'), ('XXIV', 'Joe Montana', 'QB', 'San Francisco', '297 yards passing, 5 TDs'), ('XXV', 'Ottis Anderson', 'RB', 'New York Giants', '102 yards rushing, 1 TD'), ('XXVI', 'Mark Rypien', 'QB', 'Washington', '292 yards passing, 2 TDs'), ('XXVII', 'Troy Aikman', 'QB', 'Dallas', '273 yards passing, 4 TDs'), ('XXVIII', 'Emmitt Smith', 'RB', 'Dallas', '30 carries, 132 yards, 2 TDs'), ('XXIX', 'Steve Young', 'QB', 'San Francisco', '325 yards passing, 6 TDs'), ('XXX', 'Larry Brown', 'CB', 'Dallas', 'Two interceptions'), ('XXXI', 'Desmond Howard', 'KR', 'Green Bay', '244 all-purpose yards, 99-yard kick return TD'), ('XXXII', 'Terrell Davis', 'RB', 'Denver', '30 carries, 157 yards, 3 TDs'), ('XXXIII', 'John Elway', 'QB', 'Denver', '336 yards passing, 1 TD'), ('XXXIV', 'Kurt Warner', 'QB', 'St. Louis', '414 yards passing, 2 TDs'), ('XXXV', 'Ray Lewis', 'LB', 'Baltimore', 'Led a dominant Ravens defense'), ('XXXVI', 'Tom Brady', 'QB', 'New England', '145 yards passing, 1 TD'), ('XXXVII', 'Dexter Jackson', 'CB', 'Tampa Bay', 'Two first-half interceptions'), ('XXXVIII', 'Tom Brady', 'QB', 'New England', '354 yards passing, 3 TDs'), ('XXXIX', 'Deion Branch', 'WR', 'New England', '11 catches, 133 yards'), ('XL', 'Hines Ward', 'WR', 'Pittsburgh', '5 catches, 123 yards, 1 TD'), ('XLI', 'Peyton Manning', 'QB', 'Indianapolis', '247 yards passing, 1 TD'), ('XLII', 'Eli Manning', 'QB', 'New York Giants', '255 yards passing, 2 TDs'), ('XLIII', 'Santonio Holmes', 'WR', 'Pittsburgh', '9 catches, 131 yards, 1 TD'), ('XLIV', 'Drew Brees', 'QB', 'New Orleans', '32-of-39, 288 yards, 2 TDs'), ('XLV', 'Aaron Rodgers', 'QB', 'Green Bay', '24-of-39, 304 yards, 3 TDs'), ('XLVI', 'Eli Manning', 'QB', 'New York Giants', '30-of-40, 296 yards, 1 TD'), ('XLVII', 'Joe Flacco', 'QB', 'Baltimore', '22-of-33, 287 yards, 3 TDs'), ('XLVIII', 'Malcolm Smith', 'LB', 'Seattle', 'INT for TD, fumble recovery, 10 tackles'), ('XLIX', 'Tom Brady', 'QB', 'New England', '37-of-50, 328 yards, 4 TDs'), ('50', 'Von Miller', 'LB', 'Denver', 'Six tackles, 2.5 sacks, one pass defended'), ('LI', 'Tom Brady', 'QB', 'New England', '43-of-62, 466 yards, 2 TDs'), ('LII', 'Nick Foles', 'QB', 'Philadelphia', '28-of-43, 373 yards, 3 TDs, 1 TD reception'), ('LIII', 'Julian Edelman', 'WR', 'New England', '10 catches, 141 yards'), ('LIV', 'Patrick Mahomes', 'QB', 'Kansas City', '26-of-42, 286 yards, 2 TDs'), ('LV', 'Tom Brady', 'QB', 'Tampa Bay', '21-of-29, 201 yards, 3 TDs'), ('LVI', 'Cooper Kupp', 'WR', 'Los Angeles Rams', '8 catches, 92 yards, 2 TDs')]\n"
     ]
    }
   ],
   "source": [
    "query.execute(\"SELECT * FROM MVPs\")\n",
    "print(query.fetchall())\n",
    "conn.commit()"
   ]
  },
  {
   "cell_type": "code",
   "execution_count": 30,
   "metadata": {},
   "outputs": [
    {
     "name": "stdout",
     "output_type": "stream",
     "text": [
      "[('XLV', 'Aaron Rodgers'), ('I', 'Bart Starr'), ('II', 'Bart Starr'), ('V', 'Chuck Howley'), ('LVI', 'Cooper Kupp'), ('XXXIX', 'Deion Branch'), ('XXXI', 'Desmond Howard'), ('XXXVII', 'Dexter Jackson'), ('XXII', 'Doug Williams'), ('XLIV', 'Drew Brees'), ('XLII', 'Eli Manning'), ('XLVI', 'Eli Manning'), ('XXVIII', 'Emmitt Smith'), ('IX', 'Franco Harris'), ('XI', 'Fred Biletnikoff'), ('XII', 'Harvey Martin & Randy White'), ('XL', 'Hines Ward'), ('VII', 'Jake Scott'), ('XXIII', 'Jerry Rice'), ('XV', 'Jim Plunkett'), ('XLVII', 'Joe Flacco'), ('XVI', 'Joe Montana'), ('XIX', 'Joe Montana'), ('XXIV', 'Joe Montana'), ('III', 'Joe Namath'), ('XXXIII', 'John Elway'), ('XVII', 'John Riggins'), ('LIII', 'Julian Edelman'), ('XXXIV', 'Kurt Warner'), ('XXX', 'Larry Brown'), ('VIII', 'Larry Csonka'), ('IV', 'Len Dawson'), ('X', 'Lynn Swann'), ('XLVIII', 'Malcolm Smith'), ('XVIII', 'Marcus Allen'), ('XXVI', 'Mark Rypien'), ('LII', 'Nick Foles'), ('XXV', 'Ottis Anderson'), ('LIV', 'Patrick Mahomes'), ('XLI', 'Peyton Manning'), ('XXI', 'Phil Simms'), ('XXXV', 'Ray Lewis'), ('XX', 'Richard Dent'), ('VI', 'Roger Staubach'), ('XLIII', 'Santonio Holmes'), ('XXIX', 'Steve Young'), ('XXXII', 'Terrell Davis'), ('XIII', 'Terry Bradshaw'), ('XIV', 'Terry Bradshaw'), ('XXXVI', 'Tom Brady'), ('XXXVIII', 'Tom Brady'), ('XLIX', 'Tom Brady'), ('LI', 'Tom Brady'), ('LV', 'Tom Brady'), ('XXVII', 'Troy Aikman'), ('50', 'Von Miller')]\n"
     ]
    }
   ],
   "source": [
    "query.execute(\"SELECT SuperBowl, Name FROM MVPs ORDER BY Name ASC\")\n",
    "print(query.fetchall())\n",
    "conn.commit()"
   ]
  },
  {
   "cell_type": "code",
   "execution_count": 32,
   "metadata": {},
   "outputs": [
    {
     "name": "stdout",
     "output_type": "stream",
     "text": [
      "[('XLI', 'Peyton Manning', 'QB', 'Indianapolis', '247 yards passing, 1 TD')]\n"
     ]
    }
   ],
   "source": [
    "query.execute(\"SELECT * FROM MVPs WHERE Team = 'Indianapolis'\")\n",
    "print(query.fetchall())\n",
    "conn.commit()"
   ]
  },
  {
   "cell_type": "code",
   "execution_count": 33,
   "metadata": {},
   "outputs": [
    {
     "name": "stdout",
     "output_type": "stream",
     "text": [
      "[('XXXVI',), ('XXXVIII',), ('XLIX',), ('LI',), ('LV',)]\n"
     ]
    }
   ],
   "source": [
    "query.execute(\"SELECT SuperBowl FROM MVPs WHERE Name = 'Tom Brady'\")\n",
    "print(query.fetchall())\n",
    "conn.commit()"
   ]
  },
  {
   "cell_type": "markdown",
   "metadata": {},
   "source": [
    "#### Close the database"
   ]
  },
  {
   "cell_type": "code",
   "execution_count": 34,
   "metadata": {},
   "outputs": [],
   "source": [
    "conn.close()"
   ]
  }
 ],
 "metadata": {
  "kernelspec": {
   "display_name": "Python 3 (ipykernel)",
   "language": "python",
   "name": "python3"
  },
  "language_info": {
   "codemirror_mode": {
    "name": "ipython",
    "version": 3
   },
   "file_extension": ".py",
   "mimetype": "text/x-python",
   "name": "python",
   "nbconvert_exporter": "python",
   "pygments_lexer": "ipython3",
   "version": "3.9.7"
  }
 },
 "nbformat": 4,
 "nbformat_minor": 4
}
